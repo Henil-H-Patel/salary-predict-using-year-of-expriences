{
  "nbformat": 4,
  "nbformat_minor": 0,
  "metadata": {
    "colab": {
      "name": "simplelinearregression.ipynb",
      "provenance": [],
      "collapsed_sections": []
    },
    "kernelspec": {
      "name": "python3",
      "display_name": "Python 3"
    },
    "language_info": {
      "name": "python"
    }
  },
  "cells": [
    {
      "cell_type": "markdown",
      "metadata": {
        "id": "8BnBT2osB0de"
      },
      "source": [
        "**here we are gone to use the skit learn library and we are try to predict the dependent variable and using simplelinear regression technique.**"
      ]
    },
    {
      "cell_type": "code",
      "metadata": {
        "id": "tCirVG4KBa5F"
      },
      "source": [
        "import numpy as np\n",
        "import pandas as pd\n",
        "import matplotlib.pyplot as mtp\n"
      ],
      "execution_count": 1,
      "outputs": []
    },
    {
      "cell_type": "markdown",
      "metadata": {
        "id": "Vqm0PxSFCI3P"
      },
      "source": [
        "**now we are loading our data set file**"
      ]
    },
    {
      "cell_type": "code",
      "metadata": {
        "colab": {
          "base_uri": "https://localhost:8080/"
        },
        "id": "ahDVPnkzCICW",
        "outputId": "ea7b13a8-1346-42e8-d61d-911a7482a10f"
      },
      "source": [
        "data=pd.read_csv('Salary_Data.csv')\n",
        "print(data)"
      ],
      "execution_count": 2,
      "outputs": [
        {
          "output_type": "stream",
          "text": [
            "    YearsExperience    Salary\n",
            "0               1.1   39343.0\n",
            "1               1.3   46205.0\n",
            "2               1.5   37731.0\n",
            "3               2.0   43525.0\n",
            "4               2.2   39891.0\n",
            "5               2.9   56642.0\n",
            "6               3.0   60150.0\n",
            "7               3.2   54445.0\n",
            "8               3.2   64445.0\n",
            "9               3.7   57189.0\n",
            "10              3.9   63218.0\n",
            "11              4.0   55794.0\n",
            "12              4.0   56957.0\n",
            "13              4.1   57081.0\n",
            "14              4.5   61111.0\n",
            "15              4.9   67938.0\n",
            "16              5.1   66029.0\n",
            "17              5.3   83088.0\n",
            "18              5.9   81363.0\n",
            "19              6.0   93940.0\n",
            "20              6.8   91738.0\n",
            "21              7.1   98273.0\n",
            "22              7.9  101302.0\n",
            "23              8.2  113812.0\n",
            "24              8.7  109431.0\n",
            "25              9.0  105582.0\n",
            "26              9.5  116969.0\n",
            "27              9.6  112635.0\n",
            "28             10.3  122391.0\n",
            "29             10.5  121872.0\n"
          ],
          "name": "stdout"
        }
      ]
    },
    {
      "cell_type": "markdown",
      "metadata": {
        "id": "KgTDxwiVChaU"
      },
      "source": [
        "**now here salary is dependent variable which are depend on year of experience now our tasks is extract salary and year of experience from the given data.**"
      ]
    },
    {
      "cell_type": "code",
      "metadata": {
        "colab": {
          "base_uri": "https://localhost:8080/"
        },
        "id": "R9-AJn93CyRe",
        "outputId": "a21a2c75-f319-4135-c60c-f11cc78b0d3f"
      },
      "source": [
        "y=data[['Salary']]\n",
        "print(y)"
      ],
      "execution_count": 4,
      "outputs": [
        {
          "output_type": "stream",
          "text": [
            "      Salary\n",
            "0    39343.0\n",
            "1    46205.0\n",
            "2    37731.0\n",
            "3    43525.0\n",
            "4    39891.0\n",
            "5    56642.0\n",
            "6    60150.0\n",
            "7    54445.0\n",
            "8    64445.0\n",
            "9    57189.0\n",
            "10   63218.0\n",
            "11   55794.0\n",
            "12   56957.0\n",
            "13   57081.0\n",
            "14   61111.0\n",
            "15   67938.0\n",
            "16   66029.0\n",
            "17   83088.0\n",
            "18   81363.0\n",
            "19   93940.0\n",
            "20   91738.0\n",
            "21   98273.0\n",
            "22  101302.0\n",
            "23  113812.0\n",
            "24  109431.0\n",
            "25  105582.0\n",
            "26  116969.0\n",
            "27  112635.0\n",
            "28  122391.0\n",
            "29  121872.0\n"
          ],
          "name": "stdout"
        }
      ]
    },
    {
      "cell_type": "code",
      "metadata": {
        "colab": {
          "base_uri": "https://localhost:8080/"
        },
        "id": "Wyt2gbE9DC11",
        "outputId": "c2ed7e0e-6ad4-4a5b-e7ed-d86f4b3ea5c6"
      },
      "source": [
        "x=data[['YearsExperience']]\n",
        "print(x)"
      ],
      "execution_count": 5,
      "outputs": [
        {
          "output_type": "stream",
          "text": [
            "    YearsExperience\n",
            "0               1.1\n",
            "1               1.3\n",
            "2               1.5\n",
            "3               2.0\n",
            "4               2.2\n",
            "5               2.9\n",
            "6               3.0\n",
            "7               3.2\n",
            "8               3.2\n",
            "9               3.7\n",
            "10              3.9\n",
            "11              4.0\n",
            "12              4.0\n",
            "13              4.1\n",
            "14              4.5\n",
            "15              4.9\n",
            "16              5.1\n",
            "17              5.3\n",
            "18              5.9\n",
            "19              6.0\n",
            "20              6.8\n",
            "21              7.1\n",
            "22              7.9\n",
            "23              8.2\n",
            "24              8.7\n",
            "25              9.0\n",
            "26              9.5\n",
            "27              9.6\n",
            "28             10.3\n",
            "29             10.5\n"
          ],
          "name": "stdout"
        }
      ]
    },
    {
      "cell_type": "markdown",
      "metadata": {
        "id": "_JccGo5VDrq3"
      },
      "source": [
        "**now after complete the extraction process we are using train and testing of our data so for particular this example we use inbulit function of skit learn**\n",
        "\n",
        "in train_test_split method we use test_size=0.2 it mean 80 % data is our training data and rest of 20% data is our testing data"
      ]
    },
    {
      "cell_type": "code",
      "metadata": {
        "id": "Q6Ycm5RZD5l7"
      },
      "source": [
        "from sklearn.model_selection import train_test_split  \n",
        "x_train, x_test, y_train, y_test= train_test_split(x, y, test_size=0.2  ,random_state=0)  \n"
      ],
      "execution_count": 8,
      "outputs": []
    },
    {
      "cell_type": "code",
      "metadata": {
        "colab": {
          "base_uri": "https://localhost:8080/"
        },
        "id": "yidcFWD_FH_r",
        "outputId": "96ca9f33-57ba-4676-a6b6-9aae00a854c7"
      },
      "source": [
        "print(x_train)"
      ],
      "execution_count": 9,
      "outputs": [
        {
          "output_type": "stream",
          "text": [
            "    YearsExperience\n",
            "27              9.6\n",
            "11              4.0\n",
            "17              5.3\n",
            "22              7.9\n",
            "5               2.9\n",
            "16              5.1\n",
            "8               3.2\n",
            "14              4.5\n",
            "23              8.2\n",
            "20              6.8\n",
            "1               1.3\n",
            "29             10.5\n",
            "6               3.0\n",
            "4               2.2\n",
            "18              5.9\n",
            "19              6.0\n",
            "9               3.7\n",
            "7               3.2\n",
            "25              9.0\n",
            "3               2.0\n",
            "0               1.1\n",
            "21              7.1\n",
            "15              4.9\n",
            "12              4.0\n"
          ],
          "name": "stdout"
        }
      ]
    },
    {
      "cell_type": "code",
      "metadata": {
        "colab": {
          "base_uri": "https://localhost:8080/"
        },
        "id": "_m76LJf2FLLc",
        "outputId": "413c8f02-202a-4992-bdc1-de288c57e96d"
      },
      "source": [
        "print(x_test)"
      ],
      "execution_count": 10,
      "outputs": [
        {
          "output_type": "stream",
          "text": [
            "    YearsExperience\n",
            "2               1.5\n",
            "28             10.3\n",
            "13              4.1\n",
            "10              3.9\n",
            "26              9.5\n",
            "24              8.7\n"
          ],
          "name": "stdout"
        }
      ]
    },
    {
      "cell_type": "code",
      "metadata": {
        "colab": {
          "base_uri": "https://localhost:8080/"
        },
        "id": "imJU3bJ2FO6Y",
        "outputId": "df549dad-bc32-4592-c141-50618944a2fb"
      },
      "source": [
        "print(y_train)"
      ],
      "execution_count": 11,
      "outputs": [
        {
          "output_type": "stream",
          "text": [
            "      Salary\n",
            "27  112635.0\n",
            "11   55794.0\n",
            "17   83088.0\n",
            "22  101302.0\n",
            "5    56642.0\n",
            "16   66029.0\n",
            "8    64445.0\n",
            "14   61111.0\n",
            "23  113812.0\n",
            "20   91738.0\n",
            "1    46205.0\n",
            "29  121872.0\n",
            "6    60150.0\n",
            "4    39891.0\n",
            "18   81363.0\n",
            "19   93940.0\n",
            "9    57189.0\n",
            "7    54445.0\n",
            "25  105582.0\n",
            "3    43525.0\n",
            "0    39343.0\n",
            "21   98273.0\n",
            "15   67938.0\n",
            "12   56957.0\n"
          ],
          "name": "stdout"
        }
      ]
    },
    {
      "cell_type": "code",
      "metadata": {
        "colab": {
          "base_uri": "https://localhost:8080/"
        },
        "id": "juwKa0LaFShd",
        "outputId": "29405394-ab90-45c3-9b44-6d16acdf0583"
      },
      "source": [
        "print(y_test)"
      ],
      "execution_count": 12,
      "outputs": [
        {
          "output_type": "stream",
          "text": [
            "      Salary\n",
            "2    37731.0\n",
            "28  122391.0\n",
            "13   57081.0\n",
            "10   63218.0\n",
            "26  116969.0\n",
            "24  109431.0\n"
          ],
          "name": "stdout"
        }
      ]
    },
    {
      "cell_type": "markdown",
      "metadata": {
        "id": "o74VdSBpFn95"
      },
      "source": [
        "**now our next step is after getting training and testing data we are fit into the model so here we are using the skit learn inbulit library**"
      ]
    },
    {
      "cell_type": "code",
      "metadata": {
        "colab": {
          "base_uri": "https://localhost:8080/"
        },
        "id": "zpR1r18mF8x2",
        "outputId": "c99c32d6-fa64-46c3-c915-f083cdcac0d2"
      },
      "source": [
        "from sklearn.linear_model import LinearRegression  \n",
        "regressor= LinearRegression()  \n",
        "regressor.fit(x_train, y_train)  "
      ],
      "execution_count": 13,
      "outputs": [
        {
          "output_type": "execute_result",
          "data": {
            "text/plain": [
              "LinearRegression(copy_X=True, fit_intercept=True, n_jobs=None, normalize=False)"
            ]
          },
          "metadata": {
            "tags": []
          },
          "execution_count": 13
        }
      ]
    },
    {
      "cell_type": "markdown",
      "metadata": {
        "id": "n8pxgegPKx_1"
      },
      "source": [
        "**in this below y(salary) is dependent on year(x) so first thing using tst data we are predict the y_pred and also given x_train data we predict the x_pred**"
      ]
    },
    {
      "cell_type": "code",
      "metadata": {
        "id": "wTCrbmyqKW96"
      },
      "source": [
        "y_pred= regressor.predict(x_test)  \n",
        " "
      ],
      "execution_count": 15,
      "outputs": []
    },
    {
      "cell_type": "markdown",
      "metadata": {
        "id": "OmGqqRjfevEi"
      },
      "source": [
        "**now in the above step you fit the model after then you need to predict y value using x_test data set then you compare y_pred and y_test data then particular value having high difference and particular rows having low difference. **"
      ]
    },
    {
      "cell_type": "code",
      "metadata": {
        "colab": {
          "base_uri": "https://localhost:8080/"
        },
        "id": "5MW5iuKqKZwt",
        "outputId": "607728b3-090c-45c4-f507-dcfec4d5d82c"
      },
      "source": [
        "print(y_pred)"
      ],
      "execution_count": 16,
      "outputs": [
        {
          "output_type": "stream",
          "text": [
            "[[ 40748.96184072]\n",
            " [122699.62295594]\n",
            " [ 64961.65717022]\n",
            " [ 63099.14214487]\n",
            " [115249.56285456]\n",
            " [107799.50275317]]\n"
          ],
          "name": "stdout"
        }
      ]
    },
    {
      "cell_type": "markdown",
      "metadata": {
        "id": "vqFCeXf0fynL"
      },
      "source": [
        "**now firstly we draw the datapoint for this purpose we the scatter**"
      ]
    },
    {
      "cell_type": "code",
      "metadata": {
        "colab": {
          "base_uri": "https://localhost:8080/",
          "height": 282
        },
        "id": "0YrPlX0AMkJU",
        "outputId": "06aeb943-17b9-4658-ed0e-9a84b6ebd881"
      },
      "source": [
        "mtp.scatter(x_train, y_train, color=\"green\")   \n",
        "   "
      ],
      "execution_count": 17,
      "outputs": [
        {
          "output_type": "execute_result",
          "data": {
            "text/plain": [
              "<matplotlib.collections.PathCollection at 0x7fe4cc6a2990>"
            ]
          },
          "metadata": {
            "tags": []
          },
          "execution_count": 17
        },
        {
          "output_type": "display_data",
          "data": {
            "image/png": "[encoded data removed]",
            "text/plain": [
              "<Figure size 432x288 with 1 Axes>"
            ]
          },
          "metadata": {
            "tags": [],
            "needs_background": "light"
          }
        }
      ]
    },
    {
      "cell_type": "markdown",
      "metadata": {
        "id": "iAu-qXuEgGga"
      },
      "source": [
        "**now we want plot the straight line then we use x_train and also use x_predict value**"
      ]
    },
    {
      "cell_type": "code",
      "metadata": {
        "colab": {
          "base_uri": "https://localhost:8080/",
          "height": 295
        },
        "id": "KUKiCIm5gjNC",
        "outputId": "0f3a2b57-74b4-4e13-9478-e3ba15d5d302"
      },
      "source": [
        "mtp.scatter(x_train, y_train, color=\"green\")  \n",
        "mtp.plot(x_train,regressor.predict(x_train),color='red')\n",
        "mtp.title(\"Salary VS Year Of Experience\")\n",
        "mtp.xlabel(\"salary\")\n",
        "mtp.ylabel(\"year of experience\")\n",
        "mtp.show()"
      ],
      "execution_count": 19,
      "outputs": [
        {
          "output_type": "display_data",
          "data": {
            "image/png": "[encoded data removed]",
            "text/plain": [
              "<Figure size 432x288 with 1 Axes>"
            ]
          },
          "metadata": {
            "tags": [],
            "needs_background": "light"
          }
        }
      ]
    },
    {
      "cell_type": "markdown",
      "metadata": {
        "id": "UR-8LRafjLLG"
      },
      "source": [
        "**now here we are trying to plot testing datasets point** (and also you can see that 6 data point available now we use the same x_train and predict(x_train) straight line and checking ."
      ]
    },
    {
      "cell_type": "code",
      "metadata": {
        "colab": {
          "base_uri": "https://localhost:8080/",
          "height": 282
        },
        "id": "ftZ69ZjrjRDL",
        "outputId": "62d3c663-6d51-4433-9d4f-3857562d847c"
      },
      "source": [
        "mtp.scatter(x_test, y_test, color=\"blue\")   "
      ],
      "execution_count": 21,
      "outputs": [
        {
          "output_type": "execute_result",
          "data": {
            "text/plain": [
              "<matplotlib.collections.PathCollection at 0x7fe4ca4eb8d0>"
            ]
          },
          "metadata": {
            "tags": []
          },
          "execution_count": 21
        },
        {
          "output_type": "display_data",
          "data": {
            "image/png": "[encoded data removed]",
            "text/plain": [
              "<Figure size 432x288 with 1 Axes>"
            ]
          },
          "metadata": {
            "tags": [],
            "needs_background": "light"
          }
        }
      ]
    },
    {
      "cell_type": "code",
      "metadata": {
        "colab": {
          "base_uri": "https://localhost:8080/",
          "height": 295
        },
        "id": "kAlpz6v3jr_U",
        "outputId": "b4bc3175-ff48-4edc-d112-882d7902dab2"
      },
      "source": [
        "mtp.scatter(x_test, y_test, color=\"blue\")  \n",
        "mtp.plot(x_train,regressor.predict(x_train),color='red')\n",
        "mtp.title(\"Salary VS Year Of Experience\")\n",
        "mtp.xlabel(\"salary\")\n",
        "mtp.ylabel(\"year of experience\")\n",
        "mtp.show()"
      ],
      "execution_count": 22,
      "outputs": [
        {
          "output_type": "display_data",
          "data": {
            "image/png": "[encoded data removed]",
            "text/plain": [
              "<Figure size 432x288 with 1 Axes>"
            ]
          },
          "metadata": {
            "tags": [],
            "needs_background": "light"
          }
        }
      ]
    },
    {
      "cell_type": "markdown",
      "metadata": {
        "id": "5a1FxygGj-ZG"
      },
      "source": [
        "**now user can give an input year of experience and based on that he/she get predict result**"
      ]
    },
    {
      "cell_type": "code",
      "metadata": {
        "colab": {
          "base_uri": "https://localhost:8080/"
        },
        "id": "f4eIiEQBkYKM",
        "outputId": "c68fb2b5-633f-41cb-e5d4-92900f0ff141"
      },
      "source": [
        "x_new=[[1.9]]\n",
        "print(\"predicted salay is :\",  regressor.predict(x_new))"
      ],
      "execution_count": 26,
      "outputs": [
        {
          "output_type": "stream",
          "text": [
            "predicted salay is : [[44473.99189141]]\n"
          ],
          "name": "stdout"
        }
      ]
    }
  ]
}